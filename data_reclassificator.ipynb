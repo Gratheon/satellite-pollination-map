import geopandas as gpd
from pathlib import Path
GPKG_path= Path('Data/Agro parcels/parcels.gpkg')

class Reclasificator:

    def __init__(self, data_path):
        self.data_path = data_path

    def reclassify_data(self):
        print("Reading the data:")
        gpdf= self._load_gpkg(self.data_path)
        unique_counts = gpdf["kultuur"].value_counts()

        pass

    def _load_gpkg(self, data_path):
        geodataframe = gpd.read_file(data_path)
        return geodataframe


if __name__ == "__main__":
    classificator = Reclasificator(GPKG_path)
    classificator.reclassify_data()
